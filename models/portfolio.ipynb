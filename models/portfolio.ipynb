{
 "cells": [
  {
   "cell_type": "code",
   "execution_count": 24,
   "metadata": {},
   "outputs": [],
   "source": [
    "from utils.LSTM import Long_Short_Term_Memory, company_data\n",
    "from utils.Monte_Carlo import MonteCarlo, get_company_data\n",
    "from datetime import datetime as dt\n",
    "import numpy as np\n",
    "import pandas as pd"
   ]
  },
  {
   "cell_type": "markdown",
   "metadata": {},
   "source": [
    "#### Monte Carlo to determine portfolio"
   ]
  },
  {
   "cell_type": "code",
   "execution_count": null,
   "metadata": {},
   "outputs": [],
   "source": [
    "start_fund = 100\n",
    "# obtain portfolio\n",
    "end_time = dt(2019, 7, 1)\n",
    "start_time = dt(2004, 1, 1)\n",
    "company_list = ['A', 'AA', 'ABC', 'ABCB', 'ACLS','ACNB', 'ADBE', 'ADP', 'AEG', 'AIR']\n",
    "stock_price, start_price = [], []\n",
    "for company_name in company_list:\n",
    "    company_data = get_company_data(company_name, start_time, end_time)\n",
    "    start_price.append(company_data.tail(1)['Close'].values)\n",
    "    # compute fractional change of current and previous for measuring changes\n",
    "    # which is given as (next - previous) / previous\n",
    "    stock_data = np.array(company_data['Close'].pct_change().dropna())\n",
    "    stock_price.append(stock_data)\n",
    "price_array = np.array(stock_price)\n",
    "price_series = pd.DataFrame(price_array.T, columns=company_list)\n",
    "start_price = np.array(start_price).flatten()\n",
    "# monte-carlo simulation\n",
    "model = MonteCarlo(price_series)\n",
    "start_fund = 100\n",
    "portfolio = model.build_portfolio()\n",
    "company_dict = {}\n",
    "for company in company_list:\n",
    "    company_dict[company] = portfolio[company_list.index(company)] * start_fund\n",
    "company_dict"
   ]
  },
  {
   "cell_type": "markdown",
   "metadata": {},
   "source": [
    "#### LSTM to predict prices"
   ]
  },
  {
   "cell_type": "code",
   "execution_count": 25,
   "metadata": {},
   "outputs": [],
   "source": [
    "data = pd.read_csv('..\\\\data\\\\2005_2019_10_close.csv', parse_dates=['Date'])\n",
    "# convert date to time datetime\n",
    "data['Date'] = pd.to_datetime(data['Date'])"
   ]
  },
  {
   "cell_type": "code",
   "execution_count": null,
   "metadata": {},
   "outputs": [],
   "source": [
    "data = pd.read_csv('..\\\\data\\\\2005_2019_10_close.csv', parse_dates=['Date'])\n",
    "# convert date to time datetime\n",
    "data['Date'] = pd.to_datetime(data['Date'])\n",
    "company = 'AA'\n",
    "start_time = dt(2014,1,1)\n",
    "end_time = dt(2019,1,1)\n",
    "company_stock_price = company_data(data, company, start_time, end_time)\n",
    "price = np.array(company_stock_price[company])\n",
    "model = Long_Short_Term_Memory(price, test_percent=0.2, seq_length=60)\n",
    "model.fit(restore_weights=True, restore_path='..\\\\weights\\\\LSTM_AA_weights.h5')\n",
    "test_MAE = model.evaluate()\n",
    "predicted = model.predict()\n",
    "print(f\"The test error: {test_MAE} \\n \\\n",
    "    The predicted value: {predicted}\")"
   ]
  },
  {
   "cell_type": "code",
   "execution_count": null,
   "metadata": {},
   "outputs": [],
   "source": [
    "start_time = dt(2019, 3, 30)\n",
    "end_time = dt(2019, 9, 1)\n",
    "time_data = company_data(data, company, start_time, end_time)\n",
    "AA_data = np.array(time_data[company])\n",
    "input_data = np.array([[each] for each in AA_data])\n",
    "input_data = input_data.reshape(input_data.shape[0], input_data.shape[1], 1)\n",
    "y_predict = model.predict(input_data)\n",
    "y_predict"
   ]
  },
  {
   "cell_type": "markdown",
   "metadata": {},
   "source": [
    "#### Load y predict and y true from files"
   ]
  },
  {
   "cell_type": "code",
   "execution_count": 58,
   "metadata": {},
   "outputs": [],
   "source": [
    "predict_true = pd.read_csv('..\\\\data\\\\AA_predictions.csv')\n",
    "y_predict = np.array(predict_true['Predictions'])\n",
    "true_price = np.array(predict_true['Actual'])"
   ]
  },
  {
   "cell_type": "code",
   "execution_count": null,
   "metadata": {},
   "outputs": [],
   "source": [
    "totalFund = 50\n",
    "extraFund = 50 # split original fund for dynamic processing\n",
    "price_at_window_start, price_at_window_end = totalFund, 0\n",
    "stockNum = 0 # current number of stock at hand\n",
    "dayNum = len(y_predict)\n",
    "has_stock = False # has stock in hand currently\n",
    "for today in range(0, dayNum - 1): # take one day in advance\n",
    "    if y_predict[today + 1] > true_price[today] and not has_stock:\n",
    "        # stock predicted to be rising and dont have stock yet\n",
    "        price_at_window_start = totalFund\n",
    "        stockNum = totalFund / true_price[today]\n",
    "        totalFund = 0\n",
    "        has_stock = True\n",
    "    elif y_predict[today + 1] < true_price[today] and has_stock:\n",
    "        # price predicted to be falling, sell the stock\n",
    "        totalFund = stockNum * true_price[today]\n",
    "        has_stock = False\n",
    "        # examine the stock\n",
    "        price_at_window_end = totalFund\n",
    "        ratio = price_at_window_start / price_at_window_end\n",
    "        if ratio < 1:\n",
    "            # promising stock, add more fund\n",
    "            increment = totalFund * (1 - ratio)\n",
    "            if extraFund < increment:\n",
    "                extraFund = 0\n",
    "                totalFund += extraFund\n",
    "            else:\n",
    "                extraFund -= increment\n",
    "                totalFund += increment\n",
    "        else:\n",
    "            # reduce the fund in this stock\n",
    "            decrement = totalFund * (ratio - 1)\n",
    "            totalFund -= decrement\n",
    "            extraFund += decrement\n",
    "        print(f\"Sold stock at day{today}, \\n \\\n",
    "        totalFund: {totalFund}, extraFund: {extraFund}\")"
   ]
  }
 ],
 "metadata": {
  "kernelspec": {
   "display_name": "python_deepLearning",
   "language": "python",
   "name": "python3"
  },
  "language_info": {
   "codemirror_mode": {
    "name": "ipython",
    "version": 3
   },
   "file_extension": ".py",
   "mimetype": "text/x-python",
   "name": "python",
   "nbconvert_exporter": "python",
   "pygments_lexer": "ipython3",
   "version": "3.10.0"
  }
 },
 "nbformat": 4,
 "nbformat_minor": 2
}
