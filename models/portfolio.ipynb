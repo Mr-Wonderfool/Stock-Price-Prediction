{
 "cells": [
  {
   "cell_type": "code",
   "execution_count": null,
   "metadata": {},
   "outputs": [],
   "source": [
    "from utils.LSTM import Long_Short_Term_Memory\n",
    "from utils.Monte_Carlo import MonteCarlo, get_company_data\n",
    "import datetime as dt\n",
    "import numpy as np\n",
    "import pandas as pd"
   ]
  },
  {
   "cell_type": "code",
   "execution_count": null,
   "metadata": {},
   "outputs": [],
   "source": [
    "start_fund = 100\n",
    "# obtain portfolio\n",
    "end_time = dt(2019, 7, 1)\n",
    "start_time = dt(2004, 1, 1)\n",
    "company_list = ['A', 'AA', 'ABC', 'ABCB', 'ACLS','ACNB', 'ADBE', 'ADP', 'AEG', 'AIR']\n",
    "stock_price, start_price = [], []\n",
    "for company_name in company_list:\n",
    "    company_data = get_company_data(company_name, start_time, end_time)\n",
    "    start_price.append(company_data.tail(1)['Close'].values)\n",
    "    # compute fractional change of current and previous for measuring changes\n",
    "    # which is given as (next - previous) / previous\n",
    "    stock_data = np.array(company_data['Close'].pct_change().dropna())\n",
    "    stock_price.append(stock_data)\n",
    "price_array = np.array(stock_price)\n",
    "price_series = pd.DataFrame(price_array.T, columns=company_list)\n",
    "start_price = np.array(start_price).flatten()\n",
    "# monte-carlo simulation\n",
    "model = MonteCarlo(price_series)\n",
    "start_fund = 100\n",
    "portfolio = model.build_portfolio()\n",
    "company_dict = {}\n",
    "for company in company_list:\n",
    "    company_dict[company] = portfolio[company_list.index(company)] * start_fund\n",
    "company_dict"
   ]
  }
 ],
 "metadata": {
  "kernelspec": {
   "display_name": "python_deepLearning",
   "language": "python",
   "name": "python3"
  },
  "language_info": {
   "name": "python",
   "version": "3.10.0"
  }
 },
 "nbformat": 4,
 "nbformat_minor": 2
}
